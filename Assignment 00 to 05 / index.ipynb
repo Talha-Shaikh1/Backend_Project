{
  "nbformat": 4,
  "nbformat_minor": 0,
  "metadata": {
    "colab": {
      "provenance": [],
      "authorship_tag": "ABX9TyNxxIYhX01Imj0CgJZQE2oz",
      "include_colab_link": true
    },
    "kernelspec": {
      "name": "python3",
      "display_name": "Python 3"
    },
    "language_info": {
      "name": "python"
    }
  },
  "cells": [
    {
      "cell_type": "markdown",
      "metadata": {
        "id": "view-in-github",
        "colab_type": "text"
      },
      "source": [
        "<a href=\"https://colab.research.google.com/github/Talha-Shaikh1/Backend_Project/blob/main/Assignment%2000%20to%2005%20/%20index.ipynb\" target=\"_parent\"><img src=\"https://colab.research.google.com/assets/colab-badge.svg\" alt=\"Open In Colab\"/></a>"
      ]
    },
    {
      "cell_type": "code",
      "execution_count": 4,
      "metadata": {
        "id": "TRTM0-NgRVQt",
        "colab": {
          "base_uri": "https://localhost:8080/"
        },
        "outputId": "0fab5f15-3008-4cf8-bd7b-14bd06c3c214"
      },
      "outputs": [
        {
          "output_type": "stream",
          "name": "stdout",
          "text": [
            "Hello World\n"
          ]
        }
      ],
      "source": [
        "print(\"Hello World\")"
      ]
    },
    {
      "cell_type": "code",
      "source": [],
      "metadata": {
        "id": "o2HkefatS_82"
      },
      "execution_count": null,
      "outputs": []
    }
  ]
}